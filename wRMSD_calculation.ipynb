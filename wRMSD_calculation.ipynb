{
 "cells": [
  {
   "cell_type": "markdown",
   "id": "1481111d",
   "metadata": {},
   "source": [
    "# wRMSD calculation"
   ]
  },
  {
   "cell_type": "markdown",
   "id": "a679f725",
   "metadata": {},
   "source": [
    "This notebook analyzes the results of molecular dynamics simulations of antibody molecules.\n",
    "It calculates the root-mean-square deviation (RMSD) between the candidate antibody and the reference antibody,\n",
    "and uses this to calculate the weighted RMSD (wRMSD) based on the accessibility and movability of each residue.\n",
    "\n",
    "The script requires the MDAnalysis library to be installed."
   ]
  },
  {
   "cell_type": "code",
   "execution_count": 1,
   "id": "2315f928",
   "metadata": {},
   "outputs": [],
   "source": [
    "import os\n",
    "from functools import reduce\n",
    "\n",
    "import numpy as np\n",
    "\n",
    "import MDAnalysis as mda"
   ]
  },
  {
   "cell_type": "code",
   "execution_count": 2,
   "id": "9976aece",
   "metadata": {},
   "outputs": [],
   "source": [
    "# Define paths to the reference and candidate antibody simulation data\n",
    "PATH_REFERENCE_AB = 'md_simulations/remicade_humanization/remicade/'\n",
    "PATH_CANDIDATE_AB = 'md_simulations/remicade_humanization/candidate_Aa/'\n",
    "\n",
    "# Define the CDR residues for the antibodies\n",
    "CDRS = {\n",
    "    'H1': (26, 33),    # 26-32\n",
    "    'H2': (52, 60),    # 52-59\n",
    "    'H3': (101, 110),  # 101-109\n",
    "    'L1': (144, 155),  # 24-34\n",
    "    'L2': (170, 177),  # 50-56\n",
    "    'L3': (209, 218),  # 89-97\n",
    "} "
   ]
  },
  {
   "cell_type": "code",
   "execution_count": 3,
   "id": "b8cd6b26",
   "metadata": {},
   "outputs": [
    {
     "data": {
      "text/plain": [
       "(<Universe with 3445 atoms>, <Universe with 3476 atoms>)"
      ]
     },
     "execution_count": 3,
     "metadata": {},
     "output_type": "execute_result"
    }
   ],
   "source": [
    "# Load the reference and candidate antibody simulation data\n",
    "reference_ab = mda.Universe(os.path.join(PATH_REFERENCE_AB, 'structures/newbox.gro'),\n",
    "                            os.path.join(PATH_REFERENCE_AB, 'prod_test/prod_test_noPBC.xtc')\n",
    "                           )\n",
    "candidate_ab = mda.Universe(os.path.join(PATH_CANDIDATE_AB, 'structures/newbox.gro'),\n",
    "                            os.path.join(PATH_CANDIDATE_AB, 'prod_test/prod_test_noPBC.xtc')\n",
    "                           )\n",
    "\n",
    "reference_ab, candidate_ab"
   ]
  },
  {
   "cell_type": "code",
   "execution_count": 4,
   "id": "a4befb93",
   "metadata": {},
   "outputs": [
    {
     "data": {
      "text/plain": [
       "(<AtomGroup with 51 atoms>, <AtomGroup with 51 atoms>)"
      ]
     },
     "execution_count": 4,
     "metadata": {},
     "output_type": "execute_result"
    }
   ],
   "source": [
    "# Select the CDR residues and their alpha carbons for the reference and candidate antibodies\n",
    "reference_cdr = sum([reference_ab.residues[val[0] - 1:val[1] - 1].atoms for val in CDRS.values()])\n",
    "reference_cdr_ca = reference_cdr.select_atoms('name CA')\n",
    "\n",
    "candidate_cdr = sum([candidate_ab.residues[val[0] - 1:val[1] - 1].atoms for val in CDRS.values()])\n",
    "candidate_cdr_ca = candidate_cdr.select_atoms('name CA')\n",
    "\n",
    "reference_cdr_ca, candidate_cdr_ca"
   ]
  },
  {
   "cell_type": "code",
   "execution_count": 5,
   "id": "784cdea2",
   "metadata": {},
   "outputs": [
    {
     "data": {
      "text/plain": [
       "(5001, 51)"
      ]
     },
     "execution_count": 5,
     "metadata": {},
     "output_type": "execute_result"
    }
   ],
   "source": [
    "# Define a function to read the solvent-accessible surface area (SASA) data from a gromacs-generated file\n",
    "def read_sasa_xvg(filepath):\n",
    "    sasa = []\n",
    "    with open(filepath, 'r') as file:\n",
    "        for line in file:\n",
    "            if line.startswith('#') or line.startswith('@'):\n",
    "                continue\n",
    "\n",
    "            row = line.strip().split()\n",
    "            sasa.append([float(val) for val in row[2:]])\n",
    "\n",
    "    return np.array(sasa)\n",
    "\n",
    "# Load the SASA data for the reference and candidate antibodies\n",
    "reference_sasa = read_sasa_xvg(os.path.join(PATH_REFERENCE_AB, 'sasa/sasa.xvg'))\n",
    "candidate_sasa = read_sasa_xvg(os.path.join(PATH_CANDIDATE_AB, 'sasa/sasa.xvg'))\n",
    "\n",
    "reference_sasa.shape"
   ]
  },
  {
   "cell_type": "markdown",
   "id": "ecd3518e",
   "metadata": {},
   "source": [
    "$$RMSD_i = \\sqrt{\\frac{\\sum_j \\left(d_{ij} - d_{ij}^0 \\right)^2}{n}}$$\n",
    "\n",
    "$$wRMSD_i = \\sum_i \\frac{w_{i-accessibility} w_{i-movability} RMSD_i}{N}$$\n",
    "\n",
    "$$w_{i-accessibility} = 1 / \\left(\\frac{S_i}{S_{i.avg}} \\right)$$\n",
    "\n",
    "$$w_{i-movability} = 1 / \\left(\\frac{RMSD_i^0}{RMSD_{i.avg}^0} \\right)$$"
   ]
  },
  {
   "cell_type": "code",
   "execution_count": 6,
   "id": "983a052c",
   "metadata": {},
   "outputs": [
    {
     "name": "stdout",
     "output_type": "stream",
     "text": [
      "(5001, 51)\n"
     ]
    },
    {
     "data": {
      "text/plain": [
       "array([[1.973204  , 2.1445262 , 2.0732281 , ..., 1.242502  , 1.0991721 ,\n",
       "        0.9360441 ],\n",
       "       [1.7039387 , 1.7378993 , 1.8898654 , ..., 1.0854164 , 1.0500093 ,\n",
       "        0.75137657],\n",
       "       [1.591384  , 1.6245047 , 1.6598525 , ..., 1.1067663 , 0.7925387 ,\n",
       "        0.67691195],\n",
       "       ...,\n",
       "       [2.0031538 , 2.1413727 , 1.6950476 , ..., 1.1522515 , 1.0573719 ,\n",
       "        0.78408647],\n",
       "       [2.1550474 , 1.9671072 , 2.0468764 , ..., 1.2702253 , 1.2794461 ,\n",
       "        0.90414405],\n",
       "       [1.9909649 , 1.7221991 , 1.995687  , ..., 1.4017806 , 1.2498034 ,\n",
       "        0.9345446 ]], dtype=float32)"
      ]
     },
     "execution_count": 6,
     "metadata": {},
     "output_type": "execute_result"
    }
   ],
   "source": [
    "# Define a function to calculate the distance matrix from a set of coordinates\n",
    "def coordinates2distance_matrix(coordinates):\n",
    "    return np.sqrt(np.sum((coordinates[:, np.newaxis, :] - coordinates[np.newaxis, :, :]) ** 2, axis=-1))\n",
    "\n",
    "\n",
    "n = len(reference_cdr_ca)\n",
    "rmsd = []\n",
    "\n",
    "# Calculate the RMSD for each frame of the trajectories\n",
    "for ts_ref, ts_cand in zip(reference_ab.trajectory, \n",
    "                           candidate_ab.trajectory,\n",
    "                          ):\n",
    "    distance_matrix_ref = coordinates2distance_matrix(ts_ref[reference_cdr_ca.ix])\n",
    "    distance_matrix_cand = coordinates2distance_matrix(ts_cand[candidate_cdr_ca.ix])\n",
    "    rmsd.append(np.sqrt(np.sum((distance_matrix_cand - distance_matrix_ref) ** 2, axis=1) / (n - 1)))\n",
    "\n",
    "rmsd = np.array(rmsd)\n",
    "print(rmsd.shape)\n",
    "rmsd"
   ]
  },
  {
   "cell_type": "code",
   "execution_count": null,
   "id": "1f02e264",
   "metadata": {},
   "outputs": [],
   "source": []
  },
  {
   "cell_type": "code",
   "execution_count": null,
   "id": "37e118b1",
   "metadata": {},
   "outputs": [],
   "source": []
  },
  {
   "cell_type": "code",
   "execution_count": null,
   "id": "7cbcbb89",
   "metadata": {},
   "outputs": [],
   "source": []
  },
  {
   "cell_type": "code",
   "execution_count": null,
   "id": "926b1172",
   "metadata": {},
   "outputs": [],
   "source": []
  },
  {
   "cell_type": "code",
   "execution_count": null,
   "id": "463e49e6",
   "metadata": {},
   "outputs": [],
   "source": []
  },
  {
   "cell_type": "code",
   "execution_count": null,
   "id": "05f34d6d",
   "metadata": {},
   "outputs": [],
   "source": []
  },
  {
   "cell_type": "code",
   "execution_count": null,
   "id": "b2e22bf0",
   "metadata": {},
   "outputs": [],
   "source": []
  },
  {
   "cell_type": "code",
   "execution_count": null,
   "id": "8af04b2e",
   "metadata": {},
   "outputs": [],
   "source": []
  },
  {
   "cell_type": "code",
   "execution_count": null,
   "id": "edd80e02",
   "metadata": {},
   "outputs": [],
   "source": []
  },
  {
   "cell_type": "code",
   "execution_count": null,
   "id": "c459f708",
   "metadata": {},
   "outputs": [],
   "source": []
  }
 ],
 "metadata": {
  "kernelspec": {
   "display_name": "Python 3 (ipykernel)",
   "language": "python",
   "name": "python3"
  },
  "language_info": {
   "codemirror_mode": {
    "name": "ipython",
    "version": 3
   },
   "file_extension": ".py",
   "mimetype": "text/x-python",
   "name": "python",
   "nbconvert_exporter": "python",
   "pygments_lexer": "ipython3",
   "version": "3.10.9"
  },
  "toc": {
   "base_numbering": 1,
   "nav_menu": {},
   "number_sections": true,
   "sideBar": true,
   "skip_h1_title": false,
   "title_cell": "Table of Contents",
   "title_sidebar": "Contents",
   "toc_cell": false,
   "toc_position": {},
   "toc_section_display": true,
   "toc_window_display": false
  },
  "varInspector": {
   "cols": {
    "lenName": 16,
    "lenType": 16,
    "lenVar": 40
   },
   "kernels_config": {
    "python": {
     "delete_cmd_postfix": "",
     "delete_cmd_prefix": "del ",
     "library": "var_list.py",
     "varRefreshCmd": "print(var_dic_list())"
    },
    "r": {
     "delete_cmd_postfix": ") ",
     "delete_cmd_prefix": "rm(",
     "library": "var_list.r",
     "varRefreshCmd": "cat(var_dic_list()) "
    }
   },
   "types_to_exclude": [
    "module",
    "function",
    "builtin_function_or_method",
    "instance",
    "_Feature"
   ],
   "window_display": false
  }
 },
 "nbformat": 4,
 "nbformat_minor": 5
}
